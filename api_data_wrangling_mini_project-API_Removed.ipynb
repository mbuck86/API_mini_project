{
 "cells": [
  {
   "cell_type": "markdown",
   "metadata": {},
   "source": [
    "This exercise will require you to pull some data from the Qunadl API. Qaundl is currently the most widely used aggregator of financial market data."
   ]
  },
  {
   "cell_type": "markdown",
   "metadata": {},
   "source": [
    "As a first step, you will need to register a free account on the http://www.quandl.com website."
   ]
  },
  {
   "cell_type": "markdown",
   "metadata": {},
   "source": [
    "After you register, you will be provided with a unique API key, that you should store:"
   ]
  },
  {
   "cell_type": "code",
   "execution_count": null,
   "metadata": {
    "collapsed": true
   },
   "outputs": [],
   "source": [
    "# Store the API key as a string - according to PEP8, constants are always named in all upper case\n",
    "API_KEY = 'UYQHo6v_BzV29R4-xd5S'"
   ]
  },
  {
   "cell_type": "markdown",
   "metadata": {},
   "source": [
    "Qaundl has a large number of data sources, but, unfortunately, most of them require a Premium subscription. Still, there are also a good number of free datasets."
   ]
  },
  {
   "cell_type": "markdown",
   "metadata": {},
   "source": [
    "For this mini project, we will focus on equities data from the Frankfurt Stock Exhange (FSE), which is available for free. We'll try and analyze the stock prices of a company called Carl Zeiss Meditec, which manufactures tools for eye examinations, as well as medical lasers for laser eye surgery: https://www.zeiss.com/meditec/int/home.html. The company is listed under the stock ticker AFX_X."
   ]
  },
  {
   "cell_type": "markdown",
   "metadata": {},
   "source": [
    "You can find the detailed Quandl API instructions here: https://docs.quandl.com/docs/time-series"
   ]
  },
  {
   "cell_type": "markdown",
   "metadata": {},
   "source": [
    "While there is a dedicated Python package for connecting to the Quandl API, we would prefer that you use the *requests* package, which can be easily downloaded using *pip* or *conda*. You can find the documentation for the package here: http://docs.python-requests.org/en/master/ "
   ]
  },
  {
   "cell_type": "markdown",
   "metadata": {},
   "source": [
    "Finally, apart from the *requests* package, you are encouraged to not use any third party Python packages, such as *pandas*, and instead focus on what's available in the Python Standard Library (the *collections* module might come in handy: https://pymotw.com/3/collections/ ).\n",
    "Also, since you won't have access to DataFrames, you are encouraged to us Python's native data structures - preferably dictionaries, though some questions can also be answered using lists.\n",
    "You can read more on these data structures here: https://docs.python.org/3/tutorial/datastructures.html"
   ]
  },
  {
   "cell_type": "markdown",
   "metadata": {},
   "source": [
    "Keep in mind that the JSON responses you will be getting from the API map almost one-to-one to Python's dictionaries. Unfortunately, they can be very nested, so make sure you read up on indexing dictionaries in the documentation provided above."
   ]
  },
  {
   "cell_type": "code",
   "execution_count": 18,
   "metadata": {},
   "outputs": [],
   "source": [
    "# First, import the relevant modules\n",
    "import requests\n",
    "import json"
   ]
  },
  {
   "cell_type": "code",
   "execution_count": 16,
   "metadata": {},
   "outputs": [],
   "source": [
    "# Now, call the Quandl API and pull out a small sample of the data (only one day) to get a glimpse\n",
    "# into the JSON structure that will be returned\n",
    "\n",
    "#Proper quandl URL\n",
    "url = 'https://www.quandl.com/api/v3/datasets/FSE/AFX_X/data.json?rows=1&api_key=UYQHo6v_BzV29R4-xd5S'\n",
    "\n",
    "#attempt to grab\n",
    "oneday = requests.get(url)\n"
   ]
  },
  {
   "cell_type": "code",
   "execution_count": 45,
   "metadata": {},
   "outputs": [],
   "source": [
    "# Inspect the JSON structure of the object you created, and take note of how nested it is,\n",
    "# as well as the overall structure\n",
    "jdat = oneday.json()"
   ]
  },
  {
   "cell_type": "markdown",
   "metadata": {},
   "source": [
    "These are your tasks for this mini project:\n",
    "\n",
    "1. Collect data from the Franfurt Stock Exchange, for the ticker AFX_X, for the whole year 2017 (keep in mind that the date format is YYYY-MM-DD).\n",
    "2. Convert the returned JSON object into a Python dictionary.\n",
    "3. Calculate what the highest and lowest opening prices were for the stock in this period.\n",
    "4. What was the largest change in any one day (based on High and Low price)?\n",
    "5. What was the largest change between any two days (based on Closing Price)?\n",
    "6. What was the average daily trading volume during this year?\n",
    "7. (Optional) What was the median trading volume during this year. (Note: you may need to implement your own function for calculating the median.)"
   ]
  },
  {
   "cell_type": "code",
   "execution_count": 30,
   "metadata": {},
   "outputs": [],
   "source": [
    "# 1. Collect data from the Franfurt Stock Exchange, for the ticker AFX_X, for the whole year 2017\n",
    "\n",
    "# Define the URL\n",
    "url1 = 'https://www.quandl.com/api/v3/datasets/FSE/AFX_X/data.json?start_date=2017-01-01&end_date=2017-12-31&api_key=UYQHo6v_BzV29R4-xd5S'\n",
    "\n",
    "# Send the request\n",
    "year_get = requests.get(url1)\n",
    "\n"
   ]
  },
  {
   "cell_type": "code",
   "execution_count": 31,
   "metadata": {},
   "outputs": [],
   "source": [
    "# 2. Convert the returned JSON object into a Python dictionary.\n",
    "year_dat = year_get.json()"
   ]
  },
  {
   "cell_type": "code",
   "execution_count": 153,
   "metadata": {},
   "outputs": [],
   "source": [
    "# 3. Calculate what the highest and lowest opening prices were for the stock in this period.\n",
    "\n",
    "# Pull column names and data out of the dictionary\n",
    "col_names = year_dat['dataset_data']['column_names']\n",
    "col_dat = year_dat['dataset_data']['data']\n",
    "\n",
    "# Create a new dictionary from those columns\n",
    "data = dict.fromkeys(col_names, [])"
   ]
  },
  {
   "cell_type": "code",
   "execution_count": 154,
   "metadata": {},
   "outputs": [],
   "source": [
    "#still working on 3 here, but doing it this way so I can reset the dict in case it messes up\n",
    "#I don't even understand the point of using a dictionary if this is what I have to do, but, I digress\n",
    "# Splitting the values from each part of the data to store them properly in the dictionary.\n",
    "date = []\n",
    "for val in col_dat:\n",
    "    date.append(val[0])\n",
    "data['Date'] = date\n",
    "\n",
    "op = []\n",
    "for val in col_dat:\n",
    "    if val[1] == None:\n",
    "        op.append(0)\n",
    "    else:\n",
    "        op.append(val[1])\n",
    "data['Open'] = op\n",
    "\n",
    "hi = []\n",
    "for val in col_dat:\n",
    "    hi.append(val[2])\n",
    "data['High'] = hi\n",
    "\n",
    "lo = []\n",
    "for val in col_dat:\n",
    "    lo.append(val[3])\n",
    "data['Low'] = lo\n",
    "\n",
    "clo = []\n",
    "for val in col_dat:\n",
    "    clo.append(val[4])\n",
    "data['Close'] = clo\n",
    "\n",
    "ch = []\n",
    "for val in col_dat:\n",
    "    ch.append(val[5])\n",
    "data['Change'] = ch\n",
    "\n",
    "tv = []\n",
    "for val in col_dat:\n",
    "    tv.append(val[6])\n",
    "data['Traded Volume'] = tv\n",
    "\n",
    "to = []\n",
    "for val in col_dat:\n",
    "    to.append(val[7])\n",
    "data['Turnover'] = to\n",
    "\n",
    "lp = []\n",
    "for val in col_dat:\n",
    "    lp.append(val[8])\n",
    "data['Last Price of the Day'] = lp\n",
    "\n",
    "dtu = []\n",
    "for val in col_dat:\n",
    "    dtu.append(val[9])\n",
    "data['Daily Traded Units'] = dtu\n",
    "\n",
    "dto = []\n",
    "for val in col_dat:\n",
    "    dto.append(val[10])\n",
    "data['Daily Turnover'] = dto"
   ]
  },
  {
   "cell_type": "code",
   "execution_count": 159,
   "metadata": {},
   "outputs": [
    {
     "name": "stdout",
     "output_type": "stream",
     "text": [
      "Highest opening price: 53.11\n",
      "Lowest opening price: 34.0\n"
     ]
    }
   ],
   "source": [
    "#Finally, actually answering three by finding the maximimum and minimim values\n",
    "print('Highest opening price: ' + str(max(data['Open'])))\n",
    "\n",
    "# to get the proper minimum opening price, I will have to do something else, when parsing the opening prices, I replaced None \n",
    "# with 0, as that was the easiest way to think of without using numpy. The min will have to come from a dataset where None isn't \n",
    "#replaced with 0\n",
    "\n",
    "op2 = []\n",
    "for val in op:\n",
    "    if val > 0:\n",
    "        op2.append(val)\n",
    "\n",
    "print('Lowest opening price: ' + str(min(op2)))"
   ]
  },
  {
   "cell_type": "code",
   "execution_count": 156,
   "metadata": {},
   "outputs": [
    {
     "name": "stdout",
     "output_type": "stream",
     "text": [
      "Largest positive change: 19.92\n",
      "Largest negative change: -18.36\n"
     ]
    }
   ],
   "source": [
    "# 4. What was the largest change in any one day (based on High and Low price)?\n",
    "\n",
    "#Write a loop which calculates the differencecs between high and low prices based on \n",
    "diffs = []\n",
    "for n in hi:\n",
    "    for i in lo:\n",
    "        diff = n-i\n",
    "        diffs.append(diff)\n",
    "print('Largest positive change: ' + str(max(diffs)))\n",
    "print('Largest negative change: ' + str(min(diffs)))\n",
    "    "
   ]
  },
  {
   "cell_type": "code",
   "execution_count": 160,
   "metadata": {},
   "outputs": [
    {
     "name": "stdout",
     "output_type": "stream",
     "text": [
      "Largest positive daily change: 1.7199999999999989\n",
      "Largest negative daily change: -2.559999999999995\n"
     ]
    }
   ],
   "source": [
    "# 5. What was the largest change between any two days (based on Closing Price)?\n",
    "\n",
    "# The original data was returned in reverse chronological order, so difference in days can be calculated like so:\n",
    "# day(x) - day before(y), this is done with a list comprehension.\n",
    "clo_diffs = [x-y for x, y in zip(clo, clo[1:])]\n",
    "\n",
    "#retun the largest changes\n",
    "print('Largest positive daily change: ' + str(max(clo_diffs)))\n",
    "print('Largest negative daily change: ' + str(min(clo_diffs)))"
   ]
  },
  {
   "cell_type": "code",
   "execution_count": 158,
   "metadata": {},
   "outputs": [
    {
     "name": "stdout",
     "output_type": "stream",
     "text": [
      "89124.33725490196\n"
     ]
    }
   ],
   "source": [
    "# 6. What was the average daily trading volume during this year?\n",
    "\n",
    "# calculate the average trade volume by sum of n/n(the normal way to calculate average) \n",
    "print(sum(tv)/len(tv))\n",
    "\n"
   ]
  },
  {
   "cell_type": "code",
   "execution_count": null,
   "metadata": {},
   "outputs": [],
   "source": []
  }
 ],
 "metadata": {
  "kernelspec": {
   "display_name": "Python 3",
   "language": "python",
   "name": "python3"
  },
  "language_info": {
   "codemirror_mode": {
    "name": "ipython",
    "version": 3
   },
   "file_extension": ".py",
   "mimetype": "text/x-python",
   "name": "python",
   "nbconvert_exporter": "python",
   "pygments_lexer": "ipython3",
   "version": "3.6.5"
  }
 },
 "nbformat": 4,
 "nbformat_minor": 2
}
